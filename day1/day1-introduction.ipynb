{
 "cells": [
  {
   "cell_type": "markdown",
   "metadata": {},
   "source": [
    "### summary\n",
    "1. Extends App aotumaticlly extends main function\n",
    "2. Def define a method and method should declear by a class, but function don't need to\n",
    "3. If don't specify the function return value, it will return the last argument\n",
    "4. since jupyter itself has decleared class. so hear it doesn't need to define the method with class in jupyter\n"
   ]
  },
  {
   "cell_type": "code",
   "execution_count": 12,
   "metadata": {
    "collapsed": false
   },
   "outputs": [
    {
     "name": "stdout",
     "output_type": "stream",
     "text": [
      "Hello, Wordl\n"
     ]
    }
   ],
   "source": [
    "println(\"Hello, Wordl\")"
   ]
  },
  {
   "cell_type": "code",
   "execution_count": 13,
   "metadata": {
    "collapsed": true
   },
   "outputs": [],
   "source": [
    " val name = \"buddy\""
   ]
  },
  {
   "cell_type": "code",
   "execution_count": 14,
   "metadata": {
    "collapsed": false
   },
   "outputs": [
    {
     "name": "stdout",
     "output_type": "stream",
     "text": [
      "buddy\n"
     ]
    }
   ],
   "source": [
    "println(name)\n",
    "var name1 = \"a\""
   ]
  },
  {
   "cell_type": "code",
   "execution_count": 15,
   "metadata": {
    "collapsed": false
   },
   "outputs": [
    {
     "name": "stdout",
     "output_type": "stream",
     "text": [
      "Hello, b\n"
     ]
    }
   ],
   "source": [
    "name1 = \"b\"\n",
    "println(s\"Hello, $name1\")"
   ]
  },
  {
   "cell_type": "code",
   "execution_count": 16,
   "metadata": {
    "collapsed": false
   },
   "outputs": [
    {
     "name": "stdout",
     "output_type": "stream",
     "text": [
      "Hello, $name1b\n"
     ]
    }
   ],
   "source": [
    "println(\"Hello, $name1\"+ name1)"
   ]
  },
  {
   "cell_type": "code",
   "execution_count": 17,
   "metadata": {
    "collapsed": false
   },
   "outputs": [
    {
     "data": {
      "text/plain": [
       "5.0"
      ]
     },
     "execution_count": 17,
     "metadata": {},
     "output_type": "execute_result"
    }
   ],
   "source": [
    "3.00 + (2)"
   ]
  },
  {
   "cell_type": "code",
   "execution_count": 18,
   "metadata": {
    "collapsed": true
   },
   "outputs": [],
   "source": [
    "object MyWorld{\n",
    "    def main(args: Array[String]){\n",
    "        println(\"hello, world\")\n",
    "    }\n",
    "    def notMain(args: Array[String]){\n",
    "        println(\"hello, world\")\n",
    "    }\n",
    "}"
   ]
  },
  {
   "cell_type": "code",
   "execution_count": 19,
   "metadata": {
    "collapsed": false
   },
   "outputs": [
    {
     "name": "stdout",
     "output_type": "stream",
     "text": [
      "hello, world\n"
     ]
    }
   ],
   "source": [
    "MyWorld.main(Array(\"Great\"))"
   ]
  },
  {
   "cell_type": "markdown",
   "metadata": {},
   "source": [
    "extends App aotumaticlly main function"
   ]
  },
  {
   "cell_type": "code",
   "execution_count": 20,
   "metadata": {
    "collapsed": false
   },
   "outputs": [],
   "source": [
    "object MySimpleWorld extends App{\n",
    "    println(\"hello\")\n",
    "}"
   ]
  },
  {
   "cell_type": "code",
   "execution_count": 21,
   "metadata": {
    "collapsed": false,
    "scrolled": true
   },
   "outputs": [
    {
     "name": "stdout",
     "output_type": "stream",
     "text": [
      "hello\n"
     ]
    }
   ],
   "source": [
    "MySimpleWorld.main(Array(\"Great\"))"
   ]
  },
  {
   "cell_type": "code",
   "execution_count": 23,
   "metadata": {
    "collapsed": true
   },
   "outputs": [],
   "source": [
    "object MySimpleWorld extends App{\n",
    "    println(args(0))\n",
    "}"
   ]
  },
  {
   "cell_type": "code",
   "execution_count": 24,
   "metadata": {
    "collapsed": false
   },
   "outputs": [
    {
     "name": "stdout",
     "output_type": "stream",
     "text": [
      "Great\n"
     ]
    }
   ],
   "source": [
    "MySimpleWorld.main(Array(\"Great\"))"
   ]
  },
  {
   "cell_type": "code",
   "execution_count": 25,
   "metadata": {
    "collapsed": true
   },
   "outputs": [],
   "source": [
    "class Person(name: String){\n",
    "    println(name)\n",
    "}"
   ]
  },
  {
   "cell_type": "code",
   "execution_count": 26,
   "metadata": {
    "collapsed": false
   },
   "outputs": [
    {
     "name": "stdout",
     "output_type": "stream",
     "text": [
      "conan\n"
     ]
    }
   ],
   "source": [
    "val p = new Person(\"conan\")"
   ]
  },
  {
   "cell_type": "code",
   "execution_count": 40,
   "metadata": {
    "collapsed": false
   },
   "outputs": [],
   "source": [
    "class Person(name: String){\n",
    "    var nameVal = name\n",
    "}\n",
    "val p = new Person(\"conan\")\n",
    "p.nameVal = \"Best\""
   ]
  },
  {
   "cell_type": "code",
   "execution_count": 41,
   "metadata": {
    "collapsed": false
   },
   "outputs": [
    {
     "data": {
      "text/plain": [
       "Best"
      ]
     },
     "execution_count": 41,
     "metadata": {},
     "output_type": "execute_result"
    }
   ],
   "source": [
    "p.nameVal"
   ]
  },
  {
   "cell_type": "code",
   "execution_count": 59,
   "metadata": {
    "collapsed": false
   },
   "outputs": [
    {
     "data": {
      "text/plain": [
       "26"
      ]
     },
     "execution_count": 59,
     "metadata": {},
     "output_type": "execute_result"
    }
   ],
   "source": [
    "class Person(var name: String, var age: Int)\n",
    "val p = new Person(\"Dexiang\", 26)\n",
    "\n",
    "p.age"
   ]
  },
  {
   "cell_type": "code",
   "execution_count": 60,
   "metadata": {
    "collapsed": false
   },
   "outputs": [
    {
     "data": {
      "text/plain": [
       "25"
      ]
     },
     "execution_count": 60,
     "metadata": {},
     "output_type": "execute_result"
    }
   ],
   "source": [
    "p.age = 25\n",
    "p.age"
   ]
  },
  {
   "cell_type": "markdown",
   "metadata": {},
   "source": [
    "Def define a method and method should declear by a class, but function don't need to\n",
    "\n",
    "and it should be \n",
    "c.^(3)\n",
    "c.square()"
   ]
  },
  {
   "cell_type": "code",
   "execution_count": 64,
   "metadata": {
    "collapsed": false
   },
   "outputs": [
    {
     "name": "stdout",
     "output_type": "stream",
     "text": [
      "8.0\n",
      "4\n"
     ]
    }
   ],
   "source": [
    "class Number(n : Int){\n",
    "    require(n > 0)\n",
    "    private var _n: Int = n\n",
    "    def ^(p: Int) = scala.math.pow(_n, p)\n",
    "    def square() = _n * _n\n",
    "}\n",
    "val c = new Number(2)\n",
    "println(c ^ 3)\n",
    "println(c square)\n"
   ]
  },
  {
   "cell_type": "markdown",
   "metadata": {},
   "source": [
    "if don't specify the function return value, it will return the last argument"
   ]
  },
  {
   "cell_type": "code",
   "execution_count": 80,
   "metadata": {
    "collapsed": false
   },
   "outputs": [
    {
     "data": {
      "text/plain": [
       "5"
      ]
     },
     "execution_count": 80,
     "metadata": {},
     "output_type": "execute_result"
    }
   ],
   "source": [
    "val func1 = (a: Int, b: Int, c: Int) => {\n",
    "    a + b\n",
    "    c + b\n",
    "}: Int\n",
    "func1(3,4,1)\n",
    "val y = func1\n",
    "y(2,3,4)\n",
    "y(1,2,3)"
   ]
  },
  {
   "cell_type": "markdown",
   "metadata": {},
   "source": [
    "because jupyter itself has class. so hear it doesn't need to define the method with class"
   ]
  },
  {
   "cell_type": "code",
   "execution_count": 85,
   "metadata": {
    "collapsed": false
   },
   "outputs": [
    {
     "data": {
      "text/plain": [
       "12"
      ]
     },
     "execution_count": 85,
     "metadata": {},
     "output_type": "execute_result"
    }
   ],
   "source": [
    "def method (a: Int, b: Int): Int = {\n",
    "    a*b \n",
    "}\n",
    "method(3,4)"
   ]
  },
  {
   "cell_type": "code",
   "execution_count": 88,
   "metadata": {
    "collapsed": false
   },
   "outputs": [],
   "source": [
    "val converted : (Int, Int) => Int = method"
   ]
  },
  {
   "cell_type": "markdown",
   "metadata": {},
   "source": [
    "simpler version"
   ]
  },
  {
   "cell_type": "code",
   "execution_count": 89,
   "metadata": {
    "collapsed": true
   },
   "outputs": [],
   "source": [
    "val convert = method _"
   ]
  },
  {
   "cell_type": "markdown",
   "metadata": {},
   "source": [
    "#### Enumeration"
   ]
  },
  {
   "cell_type": "code",
   "execution_count": 93,
   "metadata": {
    "collapsed": false
   },
   "outputs": [
    {
     "name": "stdout",
     "output_type": "stream",
     "text": [
      "TWO\n"
     ]
    },
    {
     "data": {
      "text/plain": [
       "Fourteen"
      ]
     },
     "execution_count": 93,
     "metadata": {},
     "output_type": "execute_result"
    }
   ],
   "source": [
    "object MyEnum extends Enumeration{\n",
    "    type EnumType = Value\n",
    "    val ONE, TWO, THREE = Value\n",
    "    val FOUR = Value(14, \"Fourteen\")\n",
    "}\n",
    "println(MyEnum.TWO)\n",
    "val x: MyEnum.EnumType = MyEnum(14)\n",
    "x"
   ]
  },
  {
   "cell_type": "code",
   "execution_count": 26,
   "metadata": {
    "collapsed": false
   },
   "outputs": [
    {
     "name": "stdout",
     "output_type": "stream",
     "text": [
      "Stop\n",
      "Stop\n",
      "Go\n"
     ]
    }
   ],
   "source": [
    "object TrafficLightColor extends Enumeration {\n",
    "\n",
    "  type Color = Value\n",
    "\n",
    "  val Red = Value(0, \"Stop\")\n",
    "\n",
    "  val Yellow = Value(10)\n",
    "\n",
    "  val Green = Value(\"Go\")\n",
    "\n",
    "}\n",
    "println(TrafficLightColor.Red)\n",
    "val y : TrafficLightColor.Color = TrafficLightColor(0)\n",
    "println(y)\n",
    "println(TrafficLightColor.withName(\"Go\"))"
   ]
  },
  {
   "cell_type": "markdown",
   "metadata": {},
   "source": [
    "Recursive function"
   ]
  },
  {
   "cell_type": "code",
   "execution_count": 1,
   "metadata": {
    "collapsed": true
   },
   "outputs": [],
   "source": [
    "object Test {\n",
    "   def main(args: Array[String]) {\n",
    "      for (i <- 1 to 10)\n",
    "         println( \"Factorial of \" + i + \": = \" + factorial(i) )\n",
    "   }\n",
    "   \n",
    "   def factorial(n: BigInt): BigInt = {  \n",
    "      if (n <= 1)\n",
    "         1  \n",
    "      else    \n",
    "      n * factorial(n - 1)\n",
    "   }\n",
    "}"
   ]
  },
  {
   "cell_type": "code",
   "execution_count": 4,
   "metadata": {
    "collapsed": false
   },
   "outputs": [
    {
     "name": "stdout",
     "output_type": "stream",
     "text": [
      "Factorial of 1: = 1\n",
      "Factorial of 2: = 2\n",
      "Factorial of 3: = 6\n",
      "Factorial of 4: = 24\n",
      "Factorial of 5: = 120\n",
      "Factorial of 6: = 720\n",
      "Factorial of 7: = 5040\n",
      "Factorial of 8: = 40320\n",
      "Factorial of 9: = 362880\n",
      "Factorial of 10: = 3628800\n"
     ]
    }
   ],
   "source": [
    "Test.main(Array(\"a\"))"
   ]
  },
  {
   "cell_type": "code",
   "execution_count": null,
   "metadata": {
    "collapsed": true
   },
   "outputs": [],
   "source": []
  }
 ],
 "metadata": {
  "kernelspec": {
   "display_name": "Apache Toree - Scala",
   "language": "scala",
   "name": "apache_toree_scala"
  },
  "language_info": {
   "name": "scala",
   "version": "2.10.4"
  },
  "widgets": {
   "state": {},
   "version": "1.1.2"
  }
 },
 "nbformat": 4,
 "nbformat_minor": 0
}
