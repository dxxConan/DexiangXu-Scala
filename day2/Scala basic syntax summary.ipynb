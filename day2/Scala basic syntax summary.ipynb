{
 "cells": [
  {
   "cell_type": "markdown",
   "metadata": {},
   "source": [
    "## Scala basic syntax summary"
   ]
  },
  {
   "cell_type": "markdown",
   "metadata": {},
   "source": [
    "#### Define a method\n",
    "\n",
    "Unit as areturn type  is the same as void in Java\n",
    "\n",
    "def functionName ([list of parameters]) : [return type] = {\n",
    "   function body\n",
    "   return [expr]\n",
    "}"
   ]
  },
  {
   "cell_type": "code",
   "execution_count": 2,
   "metadata": {
    "collapsed": true
   },
   "outputs": [],
   "source": [
    "object add{\n",
    "   def addInt( a:Int, b:Int ) : Int = {\n",
    "      var sum:Int = 0\n",
    "      sum = a + b\n",
    "\n",
    "      return sum\n",
    "   }\n",
    "}"
   ]
  },
  {
   "cell_type": "markdown",
   "metadata": {},
   "source": [
    "#### for loop\n",
    "for( var x <- Range ){\n",
    "   statement(s);\n",
    "}"
   ]
  },
  {
   "cell_type": "code",
   "execution_count": 4,
   "metadata": {
    "collapsed": true
   },
   "outputs": [],
   "source": [
    "object Test {\n",
    "   def main(args: Array[String]) {\n",
    "      var a = 0;\n",
    "      var b = 0;\n",
    "      // for loop execution with a range\n",
    "      for( a <- 1 to 3; b <- 1 to 3){\n",
    "         println( \"Value of a: \" + a );\n",
    "         println( \"Value of b: \" + b );\n",
    "      }\n",
    "   }\n",
    "}"
   ]
  },
  {
   "cell_type": "markdown",
   "metadata": {},
   "source": [
    "##### for loop for collections\n",
    "for( var x <- List ){\n",
    "   statement(s);\n",
    "}"
   ]
  },
  {
   "cell_type": "markdown",
   "metadata": {},
   "source": [
    "##### for loop with conditions\n",
    "for( var x <- List\n",
    "      if condition1; if condition2...\n",
    "   ){\n",
    "   statement(s);\n",
    "}\n",
    "\n",
    "key word yield\n",
    "var retVal = for{ var x <- List\n",
    "     if condition1; if condition2...\n",
    "}yield x\n",
    "\n",
    "return a new list which contains elements can fit the requirement"
   ]
  },
  {
   "cell_type": "markdown",
   "metadata": {},
   "source": [
    "### Closures"
   ]
  },
  {
   "cell_type": "code",
   "execution_count": 6,
   "metadata": {
    "collapsed": true
   },
   "outputs": [],
   "source": [
    "val multiplier = (i:Int) => i * 10"
   ]
  },
  {
   "cell_type": "code",
   "execution_count": 7,
   "metadata": {
    "collapsed": false
   },
   "outputs": [
    {
     "name": "stdout",
     "output_type": "stream",
     "text": [
      "50\n"
     ]
    }
   ],
   "source": [
    "println(multiplier(5))"
   ]
  },
  {
   "cell_type": "code",
   "execution_count": 12,
   "metadata": {
    "collapsed": false
   },
   "outputs": [
    {
     "name": "stdout",
     "output_type": "stream",
     "text": [
      "/resources\n"
     ]
    }
   ],
   "source": [
    "var userDir = () => { System.getProperty(\"user.dir\") }\n",
    "println(userDir())"
   ]
  },
  {
   "cell_type": "markdown",
   "metadata": {},
   "source": [
    "### pattern match"
   ]
  },
  {
   "cell_type": "code",
   "execution_count": 16,
   "metadata": {
    "collapsed": false
   },
   "outputs": [
    {
     "data": {
      "text/plain": [
       "Name: Compile Error\n",
       "Message: <console>:20: error: not found: type Person\n",
       "           val alice = new Person(\"Alice\", 25)\n",
       "                           ^\n",
       "<console>:21: error: not found: type Person\n",
       "           val bob = new Person(\"Bob\", 32)\n",
       "                         ^\n",
       "<console>:22: error: not found: type Person\n",
       "           val charlie = new Person(\"Charlie\", 32)\n",
       "                             ^\n",
       "StackTrace: "
      ]
     },
     "execution_count": 16,
     "metadata": {},
     "output_type": "execute_result"
    }
   ],
   "source": [
    "object Test {\n",
    "    def main(args: Array[String]) {\n",
    "    val alice = new Person(\"Alice\", 25)\n",
    "    val bob = new Person(\"Bob\", 32)\n",
    "    val charlie = new Person(\"Charlie\", 32)\n",
    "   \n",
    "      for (person <- List(alice, bob, charlie)) {\n",
    "         person match {\n",
    "            case Person(\"Alice\", 25) => println(\"Hi Alice!\")\n",
    "            case Person(\"Bob\", 32) => println(\"Hi Bob!\")\n",
    "            case Person(name, age) =>\n",
    "               println(\"Age: \" + age + \" year, name: \" + name + \"?\")\n",
    "         }\n",
    "      }\n",
    "   }\n",
    "   case class Person(name: String, age: Int)\n",
    "}\n",
    "Test.main(Array(\"a\"))"
   ]
  },
  {
   "cell_type": "code",
   "execution_count": null,
   "metadata": {
    "collapsed": true
   },
   "outputs": [],
   "source": []
  }
 ],
 "metadata": {
  "kernelspec": {
   "display_name": "Apache Toree - Scala",
   "language": "scala",
   "name": "apache_toree_scala"
  },
  "language_info": {
   "name": "scala",
   "version": "2.10.4"
  },
  "widgets": {
   "state": {},
   "version": "1.1.2"
  }
 },
 "nbformat": 4,
 "nbformat_minor": 0
}
