{
 "cells": [
  {
   "cell_type": "markdown",
   "metadata": {},
   "source": [
    "## summary\n",
    "#### important points\n",
    "*1. what is case class\n",
    "\n",
    "*2. learn how to use match\n",
    "\n",
    "*3. implicit class or val\n",
    "\n",
    "*4. partial Functions"
   ]
  },
  {
   "cell_type": "code",
   "execution_count": 1,
   "metadata": {
    "collapsed": false
   },
   "outputs": [],
   "source": [
    "import java.util.{Date, Locale}\n",
    "import java.text.DateFormat._"
   ]
  },
  {
   "cell_type": "code",
   "execution_count": null,
   "metadata": {
    "collapsed": false
   },
   "outputs": [],
   "source": [
    "println(getDateInstance(LONG, Locale.UK) format new Date)"
   ]
  },
  {
   "cell_type": "code",
   "execution_count": null,
   "metadata": {
    "collapsed": false
   },
   "outputs": [],
   "source": [
    "println(getDateInstance(LONG,Locale.CHINA) format new Date)"
   ]
  },
  {
   "cell_type": "code",
   "execution_count": null,
   "metadata": {
    "collapsed": true
   },
   "outputs": [],
   "source": [
    "class Person(name: String, age: Int){\n",
    "    def name(): String = name\n",
    "    def age(): Int = age\n",
    "}\n",
    "val p = new Person(\"A\", 15)"
   ]
  },
  {
   "cell_type": "code",
   "execution_count": null,
   "metadata": {
    "collapsed": false
   },
   "outputs": [],
   "source": [
    "print(p name)"
   ]
  },
  {
   "cell_type": "markdown",
   "metadata": {},
   "source": [
    "case class \n",
    "1. automatically transfer constructor parameter into class member, if get rid of case, the name and age is not decleared as class member \n",
    "2. if it is used as case class. can directly print and get the class.(case class has internal functions for those)\n",
    "3. can creat class without new\n",
    "4. has internal functions to check class equals "
   ]
  },
  {
   "cell_type": "code",
   "execution_count": null,
   "metadata": {
    "collapsed": false
   },
   "outputs": [],
   "source": [
    "case class Person(name: String, age: Int){\n",
    "}\n",
    "val p = new Person(\"A\", 25)\n",
    "println(p)\n",
    "val p2 = Person(\"B\", 15)\n",
    "println(p2 name)\n"
   ]
  },
  {
   "cell_type": "code",
   "execution_count": null,
   "metadata": {
    "collapsed": false
   },
   "outputs": [],
   "source": [
    "class Person(var name: String, var age: Int)\n",
    "val p = Person(\"A\", 25)\n",
    "val q = Person(\"A\", 25)\n",
    "p == q"
   ]
  },
  {
   "cell_type": "code",
   "execution_count": null,
   "metadata": {
    "collapsed": false
   },
   "outputs": [],
   "source": [
    "class Person(name: String, age: Int){\n",
    "    def name(): String = name\n",
    "    def age(): Int = age\n",
    "    override def toString() = {\n",
    "        \"Person with name\" + name + \" at the age of \" + age\n",
    "    }\n",
    "}\n",
    "val p = new Person(\"C\", 26)\n",
    "print(p)\n",
    "val q = new Person(\"C\", 26)\n",
    "p == q"
   ]
  },
  {
   "cell_type": "markdown",
   "metadata": {},
   "source": [
    "### pattern matching/decomposition"
   ]
  },
  {
   "cell_type": "code",
   "execution_count": null,
   "metadata": {
    "collapsed": false
   },
   "outputs": [],
   "source": [
    "abstract class Shape\n",
    "case class Square(s: Int, t: Int) extends Shape\n",
    "case class Rectangle(l: Int, b: Int) extends Shape\n",
    "def printObj(x: Shape) = x match{\n",
    "    case Square(a, b) => println(\"Square: a:\" + a + \" and b: \" + b)\n",
    "    case Rectangle(x, y) => println(\"Rectangle: \" + x + \"::\" + y)\n",
    "}\n",
    "printObj(Square(2,3))"
   ]
  },
  {
   "cell_type": "code",
   "execution_count": null,
   "metadata": {
    "collapsed": false
   },
   "outputs": [],
   "source": [
    "class Square(s: Int, t: Int)\n",
    "class Rectangle(l: Int, b: Int)\n",
    "object a{   \n",
    "    \n",
    "    def printObj(x: Any) = x match{\n",
    "        \n",
    "        case Square(a, b) => println(\"Square: a:\" + a + \" and b: \" + b)\n",
    "        case Rectangle(x, y) => println(\"Rectangle: \" + x + \"::\" + y)\n",
    "    }\n",
    "}\n",
    "\n",
    "a.printObj(Square(2,3))"
   ]
  },
  {
   "cell_type": "markdown",
   "metadata": {},
   "source": [
    "## Type Inference"
   ]
  },
  {
   "cell_type": "code",
   "execution_count": null,
   "metadata": {
    "collapsed": true
   },
   "outputs": [],
   "source": [
    "val x = 10"
   ]
  },
  {
   "cell_type": "code",
   "execution_count": null,
   "metadata": {
    "collapsed": true
   },
   "outputs": [],
   "source": [
    "val x = \"Yes\""
   ]
  },
  {
   "cell_type": "code",
   "execution_count": null,
   "metadata": {
    "collapsed": false
   },
   "outputs": [],
   "source": [
    "val function = (a: Int, b: Int) => {\n",
    "    a+ b\n",
    "}"
   ]
  },
  {
   "cell_type": "code",
   "execution_count": null,
   "metadata": {
    "collapsed": false
   },
   "outputs": [],
   "source": [
    "var x = 10\n",
    "if(x == 15){\n",
    "    println(\"HEllO\")\n",
    "} else{\n",
    "    println(\"HI\")\n",
    "}"
   ]
  },
  {
   "cell_type": "markdown",
   "metadata": {
    "collapsed": true
   },
   "source": [
    "### Implicit class"
   ]
  },
  {
   "cell_type": "code",
   "execution_count": null,
   "metadata": {
    "collapsed": false
   },
   "outputs": [],
   "source": [
    "abstract class Shape\n",
    "case class Square(s: Int) extends Shape\n",
    "case class Rectangle(l: Int, b: Int) extends Shape"
   ]
  },
  {
   "cell_type": "code",
   "execution_count": null,
   "metadata": {
    "collapsed": true
   },
   "outputs": [],
   "source": [
    "implicit class RectangleHelper(l: Int){\n",
    "    def x(b: Int) = Rectangle(1,b)\n",
    "}"
   ]
  },
  {
   "cell_type": "markdown",
   "metadata": {},
   "source": [
    "this is equal to RectangleHelper(5).x(4), scala will search the function name x in imported library and local implict function and val to find the match"
   ]
  },
  {
   "cell_type": "code",
   "execution_count": null,
   "metadata": {
    "collapsed": false
   },
   "outputs": [],
   "source": [
    "val r = 5 x 4\n",
    "val r = RectangleHelper(5).x(4)"
   ]
  },
  {
   "cell_type": "code",
   "execution_count": null,
   "metadata": {
    "collapsed": false
   },
   "outputs": [],
   "source": [
    "println(r)"
   ]
  },
  {
   "cell_type": "code",
   "execution_count": 14,
   "metadata": {
    "collapsed": false
   },
   "outputs": [
    {
     "data": {
      "text/plain": [
       "Name: Compile Error\n",
       "Message: <console>:26: error: reference to ErrorPrompt is ambiguous;\n",
       "it is imported twice in the same scope by\n",
       "import INSTANCE.ErrorPrompt\n",
       "and import INSTANCE.ErrorPrompt\n",
       "         def logError(msg: String, prompt: ErrorPrompt) = {\n",
       "                                           ^\n",
       "StackTrace: "
      ]
     },
     "execution_count": 14,
     "metadata": {},
     "output_type": "execute_result"
    }
   ],
   "source": [
    "case class ErrorPrompt(p: String)\n",
    "def logError(msg: String, prompt: ErrorPrompt) = {\n",
    "    println(prompt.p + msg)\n",
    "}"
   ]
  },
  {
   "cell_type": "code",
   "execution_count": null,
   "metadata": {
    "collapsed": false
   },
   "outputs": [],
   "source": [
    "logError(\"Hello\", ErrorPrompt(\"$> \"))"
   ]
  },
  {
   "cell_type": "code",
   "execution_count": 8,
   "metadata": {
    "collapsed": false
   },
   "outputs": [],
   "source": [
    "implicit val prompt: ErrorPrompt = ErrorPrompt(\"hello> \")"
   ]
  },
  {
   "cell_type": "code",
   "execution_count": null,
   "metadata": {
    "collapsed": false
   },
   "outputs": [],
   "source": [
    "logError(\"Im\")"
   ]
  },
  {
   "cell_type": "code",
   "execution_count": 6,
   "metadata": {
    "collapsed": false
   },
   "outputs": [],
   "source": [
    "def logError(msg: String)(implicit prompt: ErrorPrompt) = {\n",
    "    println(prompt.p + msg)\n",
    "}"
   ]
  },
  {
   "cell_type": "code",
   "execution_count": 9,
   "metadata": {
    "collapsed": false
   },
   "outputs": [
    {
     "name": "stdout",
     "output_type": "stream",
     "text": [
      "hello> Im\n"
     ]
    }
   ],
   "source": [
    "logError(\"Im\")"
   ]
  },
  {
   "cell_type": "code",
   "execution_count": 10,
   "metadata": {
    "collapsed": false
   },
   "outputs": [
    {
     "name": "stdout",
     "output_type": "stream",
     "text": [
      "hello> \n"
     ]
    }
   ],
   "source": [
    "println(implicitly[ErrorPrompt].p)"
   ]
  },
  {
   "cell_type": "code",
   "execution_count": 11,
   "metadata": {
    "collapsed": true
   },
   "outputs": [],
   "source": [
    "implicit val prompt1: ErrorPrompt = ErrorPrompt(\"hello1> \")"
   ]
  },
  {
   "cell_type": "markdown",
   "metadata": {},
   "source": [
    "can't have two same implicit for the same type, may cause compile confusing which it should choose"
   ]
  },
  {
   "cell_type": "code",
   "execution_count": 12,
   "metadata": {
    "collapsed": false
   },
   "outputs": [
    {
     "data": {
      "text/plain": [
       "Name: Compile Error\n",
       "Message: <console>:27: error: ambiguous implicit values:\n",
       " both value prompt of type => ErrorPrompt\n",
       " and value prompt1 of type => ErrorPrompt\n",
       " match expected type ErrorPrompt\n",
       "              logError(\"Im\")\n",
       "                      ^\n",
       "StackTrace: "
      ]
     },
     "execution_count": 12,
     "metadata": {},
     "output_type": "execute_result"
    }
   ],
   "source": [
    "logError(\"Im\")"
   ]
  },
  {
   "cell_type": "markdown",
   "metadata": {
    "collapsed": true
   },
   "source": [
    "### Partial Functions and Currying"
   ]
  },
  {
   "cell_type": "code",
   "execution_count": 6,
   "metadata": {
    "collapsed": false,
    "scrolled": true
   },
   "outputs": [
    {
     "data": {
      "text/plain": [
       "Name: Compile Error\n",
       "Message: <console>:1: error: identifier expected but 'var' found.\n",
       "       def modN(var n: Int, x: Int) = {\n",
       "                ^\n",
       "StackTrace: "
      ]
     },
     "execution_count": 6,
     "metadata": {},
     "output_type": "execute_result"
    }
   ],
   "source": [
    "def modN(n: Int, x: Int) = {(x % n) == 0}"
   ]
  },
  {
   "cell_type": "code",
   "execution_count": 2,
   "metadata": {
    "collapsed": false
   },
   "outputs": [
    {
     "data": {
      "text/plain": [
       "false"
      ]
     },
     "execution_count": 2,
     "metadata": {},
     "output_type": "execute_result"
    }
   ],
   "source": [
    "modN(2,5)"
   ]
  },
  {
   "cell_type": "code",
   "execution_count": 3,
   "metadata": {
    "collapsed": true
   },
   "outputs": [],
   "source": [
    "def modN(n: Int=2 , x: Int) = ((x % n) == 0)"
   ]
  },
  {
   "cell_type": "code",
   "execution_count": 4,
   "metadata": {
    "collapsed": false
   },
   "outputs": [
    {
     "data": {
      "text/plain": [
       "false"
      ]
     },
     "execution_count": 4,
     "metadata": {},
     "output_type": "execute_result"
    }
   ],
   "source": [
    "modN(x = 5)"
   ]
  },
  {
   "cell_type": "code",
   "execution_count": 7,
   "metadata": {
    "collapsed": true
   },
   "outputs": [],
   "source": [
    "def modN(n: Int)(x: Int) = ((x%n) == 0)"
   ]
  },
  {
   "cell_type": "code",
   "execution_count": 8,
   "metadata": {
    "collapsed": false
   },
   "outputs": [
    {
     "data": {
      "text/plain": [
       "false"
      ]
     },
     "execution_count": 8,
     "metadata": {},
     "output_type": "execute_result"
    }
   ],
   "source": [
    "modN(2)(5)"
   ]
  },
  {
   "cell_type": "code",
   "execution_count": 9,
   "metadata": {
    "collapsed": false
   },
   "outputs": [
    {
     "data": {
      "text/plain": [
       "List(true, false, true)"
      ]
     },
     "execution_count": 9,
     "metadata": {},
     "output_type": "execute_result"
    }
   ],
   "source": [
    "List(4,5,6).map(modN(2))"
   ]
  },
  {
   "cell_type": "markdown",
   "metadata": {},
   "source": [
    "map will do the operations for each element and return the list after being modified"
   ]
  },
  {
   "cell_type": "code",
   "execution_count": 10,
   "metadata": {
    "collapsed": false
   },
   "outputs": [
    {
     "name": "stdout",
     "output_type": "stream",
     "text": [
      "456"
     ]
    },
    {
     "data": {
      "text/plain": [
       "List((), (), ())"
      ]
     },
     "execution_count": 10,
     "metadata": {},
     "output_type": "execute_result"
    }
   ],
   "source": [
    "List(4,5,6).map(print)"
   ]
  },
  {
   "cell_type": "code",
   "execution_count": 11,
   "metadata": {
    "collapsed": false
   },
   "outputs": [
    {
     "name": "stdout",
     "output_type": "stream",
     "text": [
      "456"
     ]
    },
    {
     "data": {
      "text/plain": [
       "List((), (), ())"
      ]
     },
     "execution_count": 11,
     "metadata": {},
     "output_type": "execute_result"
    }
   ],
   "source": [
    "List(4,5,6).map(print _)"
   ]
  },
  {
   "cell_type": "code",
   "execution_count": 12,
   "metadata": {
    "collapsed": false
   },
   "outputs": [
    {
     "data": {
      "text/plain": [
       "List(true, false, true)"
      ]
     },
     "execution_count": 12,
     "metadata": {},
     "output_type": "execute_result"
    }
   ],
   "source": [
    "List(4,5,6).map(modN(2) _)"
   ]
  },
  {
   "cell_type": "code",
   "execution_count": null,
   "metadata": {
    "collapsed": true
   },
   "outputs": [],
   "source": []
  }
 ],
 "metadata": {
  "kernelspec": {
   "display_name": "Apache Toree - Scala",
   "language": "scala",
   "name": "apache_toree_scala"
  },
  "language_info": {
   "name": "scala",
   "version": "2.10.4"
  },
  "widgets": {
   "state": {},
   "version": "1.1.2"
  }
 },
 "nbformat": 4,
 "nbformat_minor": 0
}
